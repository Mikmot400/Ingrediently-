{
 "cells": [
  {
   "cell_type": "code",
   "execution_count": 3,
   "metadata": {},
   "outputs": [
    {
     "ename": "ModuleNotFoundError",
     "evalue": "No module named 'openfoodfacts'",
     "output_type": "error",
     "traceback": [
      "\u001b[0;31m---------------------------------------------------------------------------\u001b[0m",
      "\u001b[0;31mModuleNotFoundError\u001b[0m                       Traceback (most recent call last)",
      "\u001b[0;32m<ipython-input-3-40e50087fbed>\u001b[0m in \u001b[0;36m<module>\u001b[0;34m\u001b[0m\n\u001b[1;32m      3\u001b[0m \u001b[0;32mimport\u001b[0m \u001b[0mcv2\u001b[0m\u001b[0;34m\u001b[0m\u001b[0;34m\u001b[0m\u001b[0m\n\u001b[1;32m      4\u001b[0m \u001b[0;32mimport\u001b[0m \u001b[0mnumpy\u001b[0m \u001b[0;32mas\u001b[0m \u001b[0mnp\u001b[0m\u001b[0;34m\u001b[0m\u001b[0;34m\u001b[0m\u001b[0m\n\u001b[0;32m----> 5\u001b[0;31m \u001b[0;32mimport\u001b[0m \u001b[0mopenfoodfacts\u001b[0m\u001b[0;34m\u001b[0m\u001b[0;34m\u001b[0m\u001b[0m\n\u001b[0m\u001b[1;32m      6\u001b[0m \u001b[0;32mfrom\u001b[0m \u001b[0mopenfoodfacts\u001b[0m \u001b[0;32mimport\u001b[0m \u001b[0mutils\u001b[0m\u001b[0;34m\u001b[0m\u001b[0;34m\u001b[0m\u001b[0m\n\u001b[1;32m      7\u001b[0m \u001b[0;32mimport\u001b[0m \u001b[0mrequests\u001b[0m\u001b[0;34m\u001b[0m\u001b[0;34m\u001b[0m\u001b[0m\n",
      "\u001b[0;31mModuleNotFoundError\u001b[0m: No module named 'openfoodfacts'"
     ]
    }
   ],
   "source": [
    "import sys\n",
    "import pandas as pd\n",
    "import cv2\n",
    "import numpy as np\n",
    "import openfoodfacts\n",
    "from openfoodfacts import utils\n",
    "import requests\n",
    "from pyzbar.pyzbar import decode"
   ]
  },
  {
   "cell_type": "code",
   "execution_count": 2,
   "metadata": {},
   "outputs": [
    {
     "ename": "NameError",
     "evalue": "name 'cv2' is not defined",
     "output_type": "error",
     "traceback": [
      "\u001b[0;31m---------------------------------------------------------------------------\u001b[0m",
      "\u001b[0;31mNameError\u001b[0m                                 Traceback (most recent call last)",
      "\u001b[0;32m<ipython-input-2-8c0a1a109459>\u001b[0m in \u001b[0;36m<module>\u001b[0;34m\u001b[0m\n\u001b[1;32m    119\u001b[0m \u001b[0;34m\u001b[0m\u001b[0m\n\u001b[1;32m    120\u001b[0m \u001b[0;34m\u001b[0m\u001b[0m\n\u001b[0;32m--> 121\u001b[0;31m \u001b[0mcap\u001b[0m \u001b[0;34m=\u001b[0m \u001b[0mcv2\u001b[0m\u001b[0;34m.\u001b[0m\u001b[0mVideoCapture\u001b[0m\u001b[0;34m(\u001b[0m\u001b[0;36m0\u001b[0m\u001b[0;34m)\u001b[0m\u001b[0;34m\u001b[0m\u001b[0;34m\u001b[0m\u001b[0m\n\u001b[0m\u001b[1;32m    122\u001b[0m \u001b[0mx\u001b[0m \u001b[0;34m=\u001b[0m \u001b[0;34m''\u001b[0m\u001b[0;34m\u001b[0m\u001b[0;34m\u001b[0m\u001b[0m\n\u001b[1;32m    123\u001b[0m \u001b[0;32mwhile\u001b[0m \u001b[0mx\u001b[0m \u001b[0;34m==\u001b[0m \u001b[0;34m''\u001b[0m\u001b[0;34m:\u001b[0m\u001b[0;34m\u001b[0m\u001b[0;34m\u001b[0m\u001b[0m\n",
      "\u001b[0;31mNameError\u001b[0m: name 'cv2' is not defined"
     ]
    }
   ],
   "source": [
    "def get_product(barcode, locale = 'Denmark'):\n",
    "    url = utils.build_url(geography= locale, service= 'api', resource_type= 'product', parameters= barcode)\n",
    "    return utils.fetch(url)\n",
    "\n",
    "def product_df(product_info):\n",
    "    productDf = pd.DataFrame(product_info)\n",
    "    productDf = productDf.loc['ingredients']['product']\n",
    "    productDf = pd.DataFrame(productDf)\n",
    "    productDfFinal = productDf[['id', 'vegan', 'vegetarian']].copy()\n",
    "    return productDfFinal  \n",
    "\n",
    "def is_vegan(table):\n",
    "    vegan = 'product is vegan'\n",
    "    nvegan = 'product is not vegan'\n",
    "    for row in table['vegan']:\n",
    "        if row == 'no':\n",
    "            return nvegan\n",
    "            break     \n",
    "    return vegan\n",
    "\n",
    "def is_vegetarian(table):\n",
    "    vegetarian = 'product is vegetarian'\n",
    "    nvegetarian = 'product is not vegetarian'\n",
    "    for row in table['vegetarian']:\n",
    "        if row == 'no':\n",
    "            return nvegetarian\n",
    "            break\n",
    "    return vegetarian\n",
    "\n",
    "def product_ingredients(table):\n",
    "    listIngredients = []\n",
    "    dictIngredients = {}\n",
    "    for row in table['id']:\n",
    "        listIngredients.append(row)\n",
    "    return listIngredients\n",
    "\n",
    "def non_vegan_ingredients(table):\n",
    "    listID = []\n",
    "    listVegan = []\n",
    "    dictIngredients = {}\n",
    "    dictVegan = {}\n",
    "    for row in table['id']:\n",
    "        listID.append(row)\n",
    "    for row in table['vegan']:\n",
    "        listVegan.append(row)\n",
    "    for key in listID:\n",
    "        for value in listVegan:\n",
    "            dictIngredients[key] = value\n",
    "            listVegan.remove(value)\n",
    "            break\n",
    "    \n",
    "    for k,v in dictIngredients.items():\n",
    "        if v == 'no':\n",
    "            dictVegan[k] = v\n",
    "\n",
    "    return dictVegan\n",
    "\n",
    "def non_vegetarian_ingredients(table):\n",
    "    listID = []\n",
    "    listVegetarian = []\n",
    "    dictIngredients = {}\n",
    "    dictVegetarian = {}\n",
    "    for row in table['id']:\n",
    "        listID.append(row)\n",
    "    for row in table['vegetarian']:\n",
    "        listVegetarian.append(row)\n",
    "    for key in listID:\n",
    "        for value in listVegetarian:\n",
    "            dictIngredients[key] = value\n",
    "            listVegetarian.remove(value)\n",
    "            break\n",
    "    \n",
    "    for k,v in dictIngredients.items():\n",
    "        if v == 'no':\n",
    "            dictVegetarian[k] = v\n",
    "\n",
    "    return dictVegetarian\n",
    "\n",
    "def display_product_info(x):\n",
    "   product_list = get_product(x)\n",
    "   product_info = product_df(product_list)\n",
    "   vegan = is_vegan(product_info)\n",
    "   vegetarian = is_vegetarian(product_info)\n",
    "   ingredients = product_ingredients(product_info)\n",
    "   ingredient_vegan = non_vegan_ingredients(product_info)\n",
    "   ingredients_vegetarian = non_vegetarian_ingredients(product_info)\n",
    "   print(vegan)\n",
    "   print(vegetarian)\n",
    "   print(ingredients)\n",
    "   print(ingredient_vegan)\n",
    "   print(ingredients_vegetarian)\n",
    "\n",
    "\n",
    "output = ''\n",
    "def decoder(image):\n",
    "    gray_img = cv2.cvtColor(image,0)\n",
    "    barcode = decode(gray_img)\n",
    "    global output \n",
    "    for obj in barcode:\n",
    "        points = obj.polygon\n",
    "        (x,y,w,h) = obj.rect\n",
    "        pts = np.array(points, np.int32)\n",
    "        pts = pts.reshape((-1, 1, 2))\n",
    "        cv2.polylines(image, [pts], True, (0, 255, 0), 3)\n",
    "        barcodeData = obj.data.decode(\"utf-8\")\n",
    "        barcodeType = obj.type\n",
    "        string = \"Data \" + str(barcodeData) + \" | Type \" + str(barcodeType)\n",
    "        cv2.putText(frame, string, (x,y), cv2.FONT_HERSHEY_SIMPLEX,0.8,(255,0,0), 2)\n",
    "        #global output \n",
    "        output = str(barcodeData)\n",
    "        #global barcode2\n",
    "        #barcode2 = str(barcodeData)\n",
    "        #print(barcodeData)\n",
    "        print(output)\n",
    "        #return output\n",
    "        break\n",
    "        #return(barcodeData)\n",
    "    return output\n",
    "    \n",
    "\n",
    "cap = cv2.VideoCapture(0)\n",
    "x = ''\n",
    "while x == '':\n",
    "    ret, frame = cap.read()\n",
    "    x = decoder(frame)\n",
    "    cv2.imshow('Image', frame)\n",
    "    code = cv2.waitKey(100)\n",
    "    if code == ord('q'):\n",
    "        break\n",
    "\n",
    "    \n",
    "\n",
    "string = 'Barcode is:' + x\n",
    "print(string)\n",
    "print(x)\n",
    "print()\n",
    "\n",
    "\n",
    "display_product_info(x)\n",
    "\n"
   ]
  },
  {
   "cell_type": "code",
   "execution_count": 1,
   "metadata": {},
   "outputs": [
    {
     "name": "stdout",
     "output_type": "stream",
     "text": [
      "Collecting opencv-python\n",
      "  Using cached opencv_python-4.5.1.48-cp38-cp38-macosx_10_13_x86_64.whl (40.3 MB)\n",
      "Requirement already satisfied: numpy>=1.17.3 in /Users/oskarpalsboell/anaconda3/lib/python3.8/site-packages (from opencv-python) (1.19.2)\n",
      "Installing collected packages: opencv-python\n",
      "Successfully installed opencv-python-4.5.1.48\n"
     ]
    }
   ],
   "source": [
    "%%bash\n",
    "pip install opencv-python"
   ]
  },
  {
   "cell_type": "code",
   "execution_count": 2,
   "metadata": {},
   "outputs": [],
   "source": [
    "import cv2"
   ]
  },
  {
   "cell_type": "code",
   "execution_count": null,
   "metadata": {},
   "outputs": [],
   "source": []
  },
  {
   "cell_type": "code",
   "execution_count": null,
   "metadata": {},
   "outputs": [],
   "source": []
  }
 ],
 "metadata": {
  "kernelspec": {
   "display_name": "Python 3",
   "language": "python",
   "name": "python3"
  },
  "language_info": {
   "codemirror_mode": {
    "name": "ipython",
    "version": 3
   },
   "file_extension": ".py",
   "mimetype": "text/x-python",
   "name": "python",
   "nbconvert_exporter": "python",
   "pygments_lexer": "ipython3",
   "version": "3.8.5"
  },
  "metadata": {
   "interpreter": {
    "hash": "aee8b7b246df8f9039afb4144a1f6fd8d2ca17a180786b69acc140d282b71a49"
   }
  }
 },
 "nbformat": 4,
 "nbformat_minor": 2
}
